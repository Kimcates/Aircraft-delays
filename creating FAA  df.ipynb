{
 "cells": [
  {
   "cell_type": "code",
   "execution_count": 1,
   "metadata": {},
   "outputs": [],
   "source": [
    "\n",
    "import pandas as pd \n",
    "import numpy as np \n",
    "import random "
   ]
  },
  {
   "cell_type": "code",
   "execution_count": 3,
   "metadata": {},
   "outputs": [
    {
     "name": "stderr",
     "output_type": "stream",
     "text": [
      "/home/ec2-user/anaconda3/envs/python3/lib/python3.6/site-packages/IPython/core/interactiveshell.py:2785: DtypeWarning: Columns (48,77,84) have mixed types. Specify dtype option on import or set low_memory=False.\n",
      "  interactivity=interactivity, compiler=compiler, result=result)\n",
      "/home/ec2-user/anaconda3/envs/python3/lib/python3.6/site-packages/IPython/core/interactiveshell.py:2785: DtypeWarning: Columns (48,77) have mixed types. Specify dtype option on import or set low_memory=False.\n",
      "  interactivity=interactivity, compiler=compiler, result=result)\n",
      "/home/ec2-user/anaconda3/envs/python3/lib/python3.6/site-packages/IPython/core/interactiveshell.py:2785: DtypeWarning: Columns (77,84) have mixed types. Specify dtype option on import or set low_memory=False.\n",
      "  interactivity=interactivity, compiler=compiler, result=result)\n"
     ]
    }
   ],
   "source": [
    "# reading in FAA data for each month \n",
    "df = pd.read_csv('FAA4.2017.csv')\n",
    "df1 = pd.read_csv('FAA5.2017.csv')\n",
    "df2 = pd.read_csv('FAA6.2017.csv')\n",
    "df3 = pd.read_csv('FAA7.2017.csv')\n",
    "df4 = pd.read_csv('FAA8.2017.csv') \n",
    "df5 = pd.read_csv('FAA9.2017.csv')\n",
    "df6 = pd.read_csv('FAA10.2017.csv')\n",
    "df7 = pd.read_csv('FAA11.2017.csv')\n",
    "df8 = pd.read_csv('FAA12.2017.csv')\n",
    "df9 = pd.read_csv('FAA1.2018.csv')\n",
    "df10 = pd.read_csv('FAA2.2018.csv')\n",
    "df11 = pd.read_csv('FAA3.2018.csv')\n",
    "df12 = pd.read_csv('FAA4.2018.csv') \n"
   ]
  },
  {
   "cell_type": "code",
   "execution_count": 5,
   "metadata": {},
   "outputs": [],
   "source": [
    "## randomly selecting sample of 5000 \n",
    "df = df.iloc[:, :56].sample(n= 5000)\n",
    "df1 = df1.iloc[:,:56].sample(n=5000)\n",
    "df2 = df2.iloc[:,:56].sample(n=5000)\n",
    "df3 = df3.iloc[:,:56].sample(n=5000)\n",
    "df4 = df4.iloc[:,:56].sample(n=5000)\n",
    "df5 = df5.iloc[:,:56].sample(n=5000)\n",
    "df6 = df6.iloc[:,:56].sample(n=5000)\n",
    "df7 = df7.iloc[:,:56].sample(n=5000)\n",
    "df8 = df8.iloc[:,:56].sample(n=5000)\n",
    "df9 = df9.iloc[:,:56].sample(n=5000)\n",
    "df10 = df10.iloc[:,:56].sample(n=5000)\n",
    "df11 = df11.iloc[:,:56].sample(n=5000)\n",
    "df12 = df12.iloc[:,:56].sample(n=5000)"
   ]
  },
  {
   "cell_type": "code",
   "execution_count": 6,
   "metadata": {},
   "outputs": [],
   "source": [
    "## merging dataframes by columns \n",
    "frames = [df, df1, df2, df3, df4, df5, df6, df7, df8, df9, df10, df11, df12]\n",
    "result = pd.concat(frames)"
   ]
  },
  {
   "cell_type": "code",
   "execution_count": 32,
   "metadata": {},
   "outputs": [
    {
     "name": "stdout",
     "output_type": "stream",
     "text": [
      "<class 'pandas.core.frame.DataFrame'>\n",
      "Int64Index: 65000 entries, 340265 to 449409\n",
      "Data columns (total 56 columns):\n",
      "Year                    65000 non-null int64\n",
      "Quarter                 65000 non-null int64\n",
      "Month                   65000 non-null int64\n",
      "DayofMonth              65000 non-null int64\n",
      "DayOfWeek               65000 non-null int64\n",
      "FlightDate              65000 non-null object\n",
      "UniqueCarrier           65000 non-null object\n",
      "AirlineID               65000 non-null int64\n",
      "Carrier                 65000 non-null object\n",
      "TailNum                 64850 non-null object\n",
      "FlightNum               65000 non-null int64\n",
      "OriginAirportID         65000 non-null int64\n",
      "OriginAirportSeqID      65000 non-null int64\n",
      "OriginCityMarketID      65000 non-null int64\n",
      "Origin                  65000 non-null object\n",
      "OriginCityName          65000 non-null object\n",
      "OriginState             65000 non-null object\n",
      "OriginStateFips         65000 non-null int64\n",
      "OriginStateName         65000 non-null object\n",
      "OriginWac               65000 non-null int64\n",
      "DestAirportID           65000 non-null int64\n",
      "DestAirportSeqID        65000 non-null int64\n",
      "DestCityMarketID        65000 non-null int64\n",
      "Dest                    65000 non-null object\n",
      "DestCityName            65000 non-null object\n",
      "DestState               65000 non-null object\n",
      "DestStateFips           65000 non-null int64\n",
      "DestStateName           65000 non-null object\n",
      "DestWac                 65000 non-null int64\n",
      "CRSDepTime              65000 non-null int64\n",
      "DepTime                 64004 non-null float64\n",
      "DepDelay                63984 non-null float64\n",
      "DepDelayMinutes         63984 non-null float64\n",
      "DepDel15                63984 non-null float64\n",
      "DepartureDelayGroups    63984 non-null float64\n",
      "DepTimeBlk              65000 non-null object\n",
      "TaxiOut                 63984 non-null float64\n",
      "WheelsOff               63984 non-null float64\n",
      "WheelsOn                63948 non-null float64\n",
      "TaxiIn                  63948 non-null float64\n",
      "CRSArrTime              65000 non-null int64\n",
      "ArrTime                 63948 non-null float64\n",
      "ArrDelay                63849 non-null float64\n",
      "ArrDelayMinutes         63849 non-null float64\n",
      "ArrDel15                63849 non-null float64\n",
      "ArrivalDelayGroups      63849 non-null float64\n",
      "ArrTimeBlk              65000 non-null object\n",
      "Cancelled               65000 non-null float64\n",
      "CancellationCode        1023 non-null object\n",
      "Diverted                65000 non-null float64\n",
      "CRSElapsedTime          65000 non-null float64\n",
      "ActualElapsedTime       63855 non-null float64\n",
      "AirTime                 63855 non-null float64\n",
      "Flights                 65000 non-null float64\n",
      "Distance                65000 non-null float64\n",
      "DistanceGroup           65000 non-null int64\n",
      "dtypes: float64(21), int64(20), object(15)\n",
      "memory usage: 28.3+ MB\n"
     ]
    }
   ],
   "source": [
    "result.info()\n"
   ]
  },
  {
   "cell_type": "code",
   "execution_count": 7,
   "metadata": {},
   "outputs": [],
   "source": [
    "## saving dataframes \n",
    "\n",
    "result.to_csv('year.csv') "
   ]
  }
 ],
 "metadata": {
  "kernelspec": {
   "display_name": "conda_python3",
   "language": "python",
   "name": "conda_python3"
  },
  "language_info": {
   "codemirror_mode": {
    "name": "ipython",
    "version": 3
   },
   "file_extension": ".py",
   "mimetype": "text/x-python",
   "name": "python",
   "nbconvert_exporter": "python",
   "pygments_lexer": "ipython3",
   "version": "3.6.5"
  }
 },
 "nbformat": 4,
 "nbformat_minor": 2
}
